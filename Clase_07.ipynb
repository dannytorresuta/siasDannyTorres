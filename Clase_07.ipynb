{
  "cells": [
    {
      "cell_type": "markdown",
      "metadata": {
        "id": "bPdxdwVHAu6G"
      },
      "source": [
        "### TALLER FORMATIVO ANALITICA DESCRIPTIVA CON PYTHON. \n",
        "#### A partir de lo visto en clases y referencias bibliograficas realice lo siguiente:\n",
        "* Cargue el dataset CSV en algun repositorio y posteriormente copie la ruta de acceso.\n",
        "* Por cada linea de codigo, agregue una linea de texto (Markdown) con la interpretación de los resultados obtenidos.\n",
        "* Haciendo uso de todo lo aprendido y otras que usted haya indagado, agregue al final del notebook 3 ejemplos de analitica descriptiva nuevas (código e interpretación)\n",
        "* Agregue a su notebook texto smartdown que sea necesario para explicar la metodologia utilizada en el desarrollo de este ejercicio, a manera de reporte para ser leido por la comunidad de interés.\n",
        "* Suba su jupyter notebook (con el desarrollo de este taller) a un repositorio publico de su cuenta personal Github.\n",
        "* Comparta con el grupo curso (profesora y estudiantes) el enlace a su github para apreciar el trabajo realizado. Se sugiere crear un repositorio de la asignatura para estos trabajos.\n",
        "* NOTA: el trabajo es individual."
      ]
    },
    {
      "cell_type": "markdown",
      "metadata": {
        "id": "bKAa3LZNxLdc"
      },
      "source": [
        "### Ejercicio\n",
        "* A partir de la sigueinte referencia"
      ]
    },
    {
      "cell_type": "code",
      "execution_count": 1,
      "metadata": {
        "id": "h-2EotI833bL"
      },
      "outputs": [
        {
          "data": {
            "text/html": [
              "<div>\n",
              "<style scoped>\n",
              "    .dataframe tbody tr th:only-of-type {\n",
              "        vertical-align: middle;\n",
              "    }\n",
              "\n",
              "    .dataframe tbody tr th {\n",
              "        vertical-align: top;\n",
              "    }\n",
              "\n",
              "    .dataframe thead th {\n",
              "        text-align: right;\n",
              "    }\n",
              "</style>\n",
              "<table border=\"1\" class=\"dataframe\">\n",
              "  <thead>\n",
              "    <tr style=\"text-align: right;\">\n",
              "      <th></th>\n",
              "      <th>Product</th>\n",
              "      <th>Age</th>\n",
              "      <th>Gender</th>\n",
              "      <th>Education</th>\n",
              "      <th>MaritalStatus</th>\n",
              "      <th>Usage</th>\n",
              "      <th>Fitness</th>\n",
              "      <th>Income</th>\n",
              "      <th>Miles</th>\n",
              "    </tr>\n",
              "  </thead>\n",
              "  <tbody>\n",
              "    <tr>\n",
              "      <th>0</th>\n",
              "      <td>TM195</td>\n",
              "      <td>18</td>\n",
              "      <td>Male</td>\n",
              "      <td>14</td>\n",
              "      <td>Single</td>\n",
              "      <td>3</td>\n",
              "      <td>4</td>\n",
              "      <td>29562</td>\n",
              "      <td>112</td>\n",
              "    </tr>\n",
              "    <tr>\n",
              "      <th>1</th>\n",
              "      <td>TM195</td>\n",
              "      <td>19</td>\n",
              "      <td>Male</td>\n",
              "      <td>15</td>\n",
              "      <td>Single</td>\n",
              "      <td>2</td>\n",
              "      <td>3</td>\n",
              "      <td>31836</td>\n",
              "      <td>75</td>\n",
              "    </tr>\n",
              "    <tr>\n",
              "      <th>2</th>\n",
              "      <td>TM195</td>\n",
              "      <td>19</td>\n",
              "      <td>Female</td>\n",
              "      <td>14</td>\n",
              "      <td>Partnered</td>\n",
              "      <td>4</td>\n",
              "      <td>3</td>\n",
              "      <td>30699</td>\n",
              "      <td>66</td>\n",
              "    </tr>\n",
              "    <tr>\n",
              "      <th>3</th>\n",
              "      <td>TM195</td>\n",
              "      <td>19</td>\n",
              "      <td>Male</td>\n",
              "      <td>12</td>\n",
              "      <td>Single</td>\n",
              "      <td>3</td>\n",
              "      <td>3</td>\n",
              "      <td>32973</td>\n",
              "      <td>85</td>\n",
              "    </tr>\n",
              "    <tr>\n",
              "      <th>4</th>\n",
              "      <td>TM195</td>\n",
              "      <td>20</td>\n",
              "      <td>Male</td>\n",
              "      <td>13</td>\n",
              "      <td>Partnered</td>\n",
              "      <td>4</td>\n",
              "      <td>2</td>\n",
              "      <td>35247</td>\n",
              "      <td>47</td>\n",
              "    </tr>\n",
              "    <tr>\n",
              "      <th>...</th>\n",
              "      <td>...</td>\n",
              "      <td>...</td>\n",
              "      <td>...</td>\n",
              "      <td>...</td>\n",
              "      <td>...</td>\n",
              "      <td>...</td>\n",
              "      <td>...</td>\n",
              "      <td>...</td>\n",
              "      <td>...</td>\n",
              "    </tr>\n",
              "    <tr>\n",
              "      <th>175</th>\n",
              "      <td>TM798</td>\n",
              "      <td>40</td>\n",
              "      <td>Male</td>\n",
              "      <td>21</td>\n",
              "      <td>Single</td>\n",
              "      <td>6</td>\n",
              "      <td>5</td>\n",
              "      <td>83416</td>\n",
              "      <td>200</td>\n",
              "    </tr>\n",
              "    <tr>\n",
              "      <th>176</th>\n",
              "      <td>TM798</td>\n",
              "      <td>42</td>\n",
              "      <td>Male</td>\n",
              "      <td>18</td>\n",
              "      <td>Single</td>\n",
              "      <td>5</td>\n",
              "      <td>4</td>\n",
              "      <td>89641</td>\n",
              "      <td>200</td>\n",
              "    </tr>\n",
              "    <tr>\n",
              "      <th>177</th>\n",
              "      <td>TM798</td>\n",
              "      <td>45</td>\n",
              "      <td>Male</td>\n",
              "      <td>16</td>\n",
              "      <td>Single</td>\n",
              "      <td>5</td>\n",
              "      <td>5</td>\n",
              "      <td>90886</td>\n",
              "      <td>160</td>\n",
              "    </tr>\n",
              "    <tr>\n",
              "      <th>178</th>\n",
              "      <td>TM798</td>\n",
              "      <td>47</td>\n",
              "      <td>Male</td>\n",
              "      <td>18</td>\n",
              "      <td>Partnered</td>\n",
              "      <td>4</td>\n",
              "      <td>5</td>\n",
              "      <td>104581</td>\n",
              "      <td>120</td>\n",
              "    </tr>\n",
              "    <tr>\n",
              "      <th>179</th>\n",
              "      <td>TM798</td>\n",
              "      <td>48</td>\n",
              "      <td>Male</td>\n",
              "      <td>18</td>\n",
              "      <td>Partnered</td>\n",
              "      <td>4</td>\n",
              "      <td>5</td>\n",
              "      <td>95508</td>\n",
              "      <td>180</td>\n",
              "    </tr>\n",
              "  </tbody>\n",
              "</table>\n",
              "<p>180 rows × 9 columns</p>\n",
              "</div>"
            ],
            "text/plain": [
              "    Product  Age  Gender  Education MaritalStatus  Usage  Fitness  Income  \\\n",
              "0     TM195   18    Male         14        Single      3        4   29562   \n",
              "1     TM195   19    Male         15        Single      2        3   31836   \n",
              "2     TM195   19  Female         14     Partnered      4        3   30699   \n",
              "3     TM195   19    Male         12        Single      3        3   32973   \n",
              "4     TM195   20    Male         13     Partnered      4        2   35247   \n",
              "..      ...  ...     ...        ...           ...    ...      ...     ...   \n",
              "175   TM798   40    Male         21        Single      6        5   83416   \n",
              "176   TM798   42    Male         18        Single      5        4   89641   \n",
              "177   TM798   45    Male         16        Single      5        5   90886   \n",
              "178   TM798   47    Male         18     Partnered      4        5  104581   \n",
              "179   TM798   48    Male         18     Partnered      4        5   95508   \n",
              "\n",
              "     Miles  \n",
              "0      112  \n",
              "1       75  \n",
              "2       66  \n",
              "3       85  \n",
              "4       47  \n",
              "..     ...  \n",
              "175    200  \n",
              "176    200  \n",
              "177    160  \n",
              "178    120  \n",
              "179    180  \n",
              "\n",
              "[180 rows x 9 columns]"
            ]
          },
          "execution_count": 1,
          "metadata": {},
          "output_type": "execute_result"
        }
      ],
      "source": [
        "import pandas as pd\n",
        "url='CardioGoodFitness.csv'\n",
        "df_sports=pd.read_csv(url)  \n",
        "df_sports"
      ]
    },
    {
      "cell_type": "markdown",
      "metadata": {},
      "source": [
        "## esplicación 1\n",
        "Carga de base de datos para mostrarla en pantalla. se puede reemplazar la url por una base de datos que esté en la nube."
      ]
    },
    {
      "cell_type": "code",
      "execution_count": 4,
      "metadata": {
        "id": "nIaUJJ9f0RIE"
      },
      "outputs": [
        {
          "data": {
            "text/html": [
              "<div>\n",
              "<style scoped>\n",
              "    .dataframe tbody tr th:only-of-type {\n",
              "        vertical-align: middle;\n",
              "    }\n",
              "\n",
              "    .dataframe tbody tr th {\n",
              "        vertical-align: top;\n",
              "    }\n",
              "\n",
              "    .dataframe thead th {\n",
              "        text-align: right;\n",
              "    }\n",
              "</style>\n",
              "<table border=\"1\" class=\"dataframe\">\n",
              "  <thead>\n",
              "    <tr style=\"text-align: right;\">\n",
              "      <th></th>\n",
              "      <th>Age</th>\n",
              "      <th>Education</th>\n",
              "      <th>Usage</th>\n",
              "      <th>Fitness</th>\n",
              "      <th>Income</th>\n",
              "      <th>Miles</th>\n",
              "    </tr>\n",
              "  </thead>\n",
              "  <tbody>\n",
              "    <tr>\n",
              "      <th>count</th>\n",
              "      <td>180.000000</td>\n",
              "      <td>180.000000</td>\n",
              "      <td>180.000000</td>\n",
              "      <td>180.000000</td>\n",
              "      <td>180.000000</td>\n",
              "      <td>180.000000</td>\n",
              "    </tr>\n",
              "    <tr>\n",
              "      <th>mean</th>\n",
              "      <td>28.788889</td>\n",
              "      <td>15.572222</td>\n",
              "      <td>3.455556</td>\n",
              "      <td>3.311111</td>\n",
              "      <td>53719.577778</td>\n",
              "      <td>103.194444</td>\n",
              "    </tr>\n",
              "    <tr>\n",
              "      <th>std</th>\n",
              "      <td>6.943498</td>\n",
              "      <td>1.617055</td>\n",
              "      <td>1.084797</td>\n",
              "      <td>0.958869</td>\n",
              "      <td>16506.684226</td>\n",
              "      <td>51.863605</td>\n",
              "    </tr>\n",
              "    <tr>\n",
              "      <th>min</th>\n",
              "      <td>18.000000</td>\n",
              "      <td>12.000000</td>\n",
              "      <td>2.000000</td>\n",
              "      <td>1.000000</td>\n",
              "      <td>29562.000000</td>\n",
              "      <td>21.000000</td>\n",
              "    </tr>\n",
              "    <tr>\n",
              "      <th>25%</th>\n",
              "      <td>24.000000</td>\n",
              "      <td>14.000000</td>\n",
              "      <td>3.000000</td>\n",
              "      <td>3.000000</td>\n",
              "      <td>44058.750000</td>\n",
              "      <td>66.000000</td>\n",
              "    </tr>\n",
              "    <tr>\n",
              "      <th>50%</th>\n",
              "      <td>26.000000</td>\n",
              "      <td>16.000000</td>\n",
              "      <td>3.000000</td>\n",
              "      <td>3.000000</td>\n",
              "      <td>50596.500000</td>\n",
              "      <td>94.000000</td>\n",
              "    </tr>\n",
              "    <tr>\n",
              "      <th>75%</th>\n",
              "      <td>33.000000</td>\n",
              "      <td>16.000000</td>\n",
              "      <td>4.000000</td>\n",
              "      <td>4.000000</td>\n",
              "      <td>58668.000000</td>\n",
              "      <td>114.750000</td>\n",
              "    </tr>\n",
              "    <tr>\n",
              "      <th>max</th>\n",
              "      <td>50.000000</td>\n",
              "      <td>21.000000</td>\n",
              "      <td>7.000000</td>\n",
              "      <td>5.000000</td>\n",
              "      <td>104581.000000</td>\n",
              "      <td>360.000000</td>\n",
              "    </tr>\n",
              "  </tbody>\n",
              "</table>\n",
              "</div>"
            ],
            "text/plain": [
              "              Age   Education       Usage     Fitness         Income  \\\n",
              "count  180.000000  180.000000  180.000000  180.000000     180.000000   \n",
              "mean    28.788889   15.572222    3.455556    3.311111   53719.577778   \n",
              "std      6.943498    1.617055    1.084797    0.958869   16506.684226   \n",
              "min     18.000000   12.000000    2.000000    1.000000   29562.000000   \n",
              "25%     24.000000   14.000000    3.000000    3.000000   44058.750000   \n",
              "50%     26.000000   16.000000    3.000000    3.000000   50596.500000   \n",
              "75%     33.000000   16.000000    4.000000    4.000000   58668.000000   \n",
              "max     50.000000   21.000000    7.000000    5.000000  104581.000000   \n",
              "\n",
              "            Miles  \n",
              "count  180.000000  \n",
              "mean   103.194444  \n",
              "std     51.863605  \n",
              "min     21.000000  \n",
              "25%     66.000000  \n",
              "50%     94.000000  \n",
              "75%    114.750000  \n",
              "max    360.000000  "
            ]
          },
          "execution_count": 4,
          "metadata": {},
          "output_type": "execute_result"
        }
      ],
      "source": [
        "df_sports.describe()"
      ]
    },
    {
      "cell_type": "markdown",
      "metadata": {},
      "source": [
        "## esplicación 2\n",
        "muestra estadisticas descriptivas como son **media, mediana, min, max, std y conteos de los datos.**"
      ]
    },
    {
      "cell_type": "code",
      "execution_count": 5,
      "metadata": {
        "id": "aoN_-sGz0l7i"
      },
      "outputs": [
        {
          "name": "stdout",
          "output_type": "stream",
          "text": [
            "<class 'pandas.core.frame.DataFrame'>\n",
            "RangeIndex: 180 entries, 0 to 179\n",
            "Data columns (total 9 columns):\n",
            " #   Column         Non-Null Count  Dtype \n",
            "---  ------         --------------  ----- \n",
            " 0   Product        180 non-null    object\n",
            " 1   Age            180 non-null    int64 \n",
            " 2   Gender         180 non-null    object\n",
            " 3   Education      180 non-null    int64 \n",
            " 4   MaritalStatus  180 non-null    object\n",
            " 5   Usage          180 non-null    int64 \n",
            " 6   Fitness        180 non-null    int64 \n",
            " 7   Income         180 non-null    int64 \n",
            " 8   Miles          180 non-null    int64 \n",
            "dtypes: int64(6), object(3)\n",
            "memory usage: 12.8+ KB\n"
          ]
        }
      ],
      "source": [
        "df_sports.info()"
      ]
    },
    {
      "cell_type": "markdown",
      "metadata": {},
      "source": [
        "## esplicacion 3\n",
        "_muestra información de la base como son: **numeros de filas, columnas, índices y tipos de datos. también muestra memoria utilizada.**_"
      ]
    },
    {
      "cell_type": "code",
      "execution_count": 6,
      "metadata": {
        "id": "ZxVKrZFC03Bf"
      },
      "outputs": [
        {
          "data": {
            "text/plain": [
              "(180, 9)"
            ]
          },
          "execution_count": 6,
          "metadata": {},
          "output_type": "execute_result"
        }
      ],
      "source": [
        "df_sports.shape"
      ]
    },
    {
      "cell_type": "markdown",
      "metadata": {},
      "source": [
        "## esplicación 4\n",
        "*muestra el número de muestras y características. en este caso son 180 muestras, y 9 características*"
      ]
    },
    {
      "cell_type": "code",
      "execution_count": 3,
      "metadata": {
        "id": "CGQS86kl1CLL"
      },
      "outputs": [
        {
          "data": {
            "text/plain": [
              "Product          False\n",
              "Age              False\n",
              "Gender           False\n",
              "Education        False\n",
              "MaritalStatus    False\n",
              "Usage            False\n",
              "Fitness          False\n",
              "Income           False\n",
              "Miles            False\n",
              "dtype: bool"
            ]
          },
          "execution_count": 3,
          "metadata": {},
          "output_type": "execute_result"
        }
      ],
      "source": [
        "df_sports.isna().any()"
      ]
    },
    {
      "cell_type": "markdown",
      "metadata": {},
      "source": [
        "## explicación 5\n",
        "*muestra si falta datos de alguna característica. en este caso como todo está falso (False) está todo correcto para utilizar y no hace falta algún dato.*"
      ]
    },
    {
      "cell_type": "code",
      "execution_count": 4,
      "metadata": {
        "id": "eaf9yU0k1LgI"
      },
      "outputs": [
        {
          "data": {
            "text/html": [
              "<div>\n",
              "<style scoped>\n",
              "    .dataframe tbody tr th:only-of-type {\n",
              "        vertical-align: middle;\n",
              "    }\n",
              "\n",
              "    .dataframe tbody tr th {\n",
              "        vertical-align: top;\n",
              "    }\n",
              "\n",
              "    .dataframe thead th {\n",
              "        text-align: right;\n",
              "    }\n",
              "</style>\n",
              "<table border=\"1\" class=\"dataframe\">\n",
              "  <thead>\n",
              "    <tr style=\"text-align: right;\">\n",
              "      <th>Gender</th>\n",
              "      <th>Female</th>\n",
              "      <th>Male</th>\n",
              "    </tr>\n",
              "    <tr>\n",
              "      <th>Product</th>\n",
              "      <th></th>\n",
              "      <th></th>\n",
              "    </tr>\n",
              "  </thead>\n",
              "  <tbody>\n",
              "    <tr>\n",
              "      <th>TM195</th>\n",
              "      <td>40</td>\n",
              "      <td>40</td>\n",
              "    </tr>\n",
              "    <tr>\n",
              "      <th>TM498</th>\n",
              "      <td>29</td>\n",
              "      <td>31</td>\n",
              "    </tr>\n",
              "    <tr>\n",
              "      <th>TM798</th>\n",
              "      <td>7</td>\n",
              "      <td>33</td>\n",
              "    </tr>\n",
              "  </tbody>\n",
              "</table>\n",
              "</div>"
            ],
            "text/plain": [
              "Gender   Female  Male\n",
              "Product              \n",
              "TM195        40    40\n",
              "TM498        29    31\n",
              "TM798         7    33"
            ]
          },
          "execution_count": 4,
          "metadata": {},
          "output_type": "execute_result"
        }
      ],
      "source": [
        "pd.crosstab(df_sports['Product'],df_sports['Gender'])"
      ]
    },
    {
      "cell_type": "markdown",
      "metadata": {},
      "source": [
        "## explicación 6\n",
        "muestra los valores que toma género y producto"
      ]
    },
    {
      "cell_type": "code",
      "execution_count": 5,
      "metadata": {
        "id": "NMkIwE4U10yC"
      },
      "outputs": [
        {
          "data": {
            "text/html": [
              "<div>\n",
              "<style scoped>\n",
              "    .dataframe tbody tr th:only-of-type {\n",
              "        vertical-align: middle;\n",
              "    }\n",
              "\n",
              "    .dataframe tbody tr th {\n",
              "        vertical-align: top;\n",
              "    }\n",
              "\n",
              "    .dataframe thead th {\n",
              "        text-align: right;\n",
              "    }\n",
              "</style>\n",
              "<table border=\"1\" class=\"dataframe\">\n",
              "  <thead>\n",
              "    <tr style=\"text-align: right;\">\n",
              "      <th>MaritalStatus</th>\n",
              "      <th>Partnered</th>\n",
              "      <th>Single</th>\n",
              "    </tr>\n",
              "    <tr>\n",
              "      <th>Product</th>\n",
              "      <th></th>\n",
              "      <th></th>\n",
              "    </tr>\n",
              "  </thead>\n",
              "  <tbody>\n",
              "    <tr>\n",
              "      <th>TM195</th>\n",
              "      <td>48</td>\n",
              "      <td>32</td>\n",
              "    </tr>\n",
              "    <tr>\n",
              "      <th>TM498</th>\n",
              "      <td>36</td>\n",
              "      <td>24</td>\n",
              "    </tr>\n",
              "    <tr>\n",
              "      <th>TM798</th>\n",
              "      <td>23</td>\n",
              "      <td>17</td>\n",
              "    </tr>\n",
              "  </tbody>\n",
              "</table>\n",
              "</div>"
            ],
            "text/plain": [
              "MaritalStatus  Partnered  Single\n",
              "Product                         \n",
              "TM195                 48      32\n",
              "TM498                 36      24\n",
              "TM798                 23      17"
            ]
          },
          "execution_count": 5,
          "metadata": {},
          "output_type": "execute_result"
        }
      ],
      "source": [
        "pd.crosstab(df_sports['Product'],df_sports['MaritalStatus'])"
      ]
    },
    {
      "cell_type": "code",
      "execution_count": 6,
      "metadata": {
        "id": "1W6Z6oMO2sSK"
      },
      "outputs": [
        {
          "data": {
            "text/html": [
              "<div>\n",
              "<style scoped>\n",
              "    .dataframe tbody tr th:only-of-type {\n",
              "        vertical-align: middle;\n",
              "    }\n",
              "\n",
              "    .dataframe tbody tr th {\n",
              "        vertical-align: top;\n",
              "    }\n",
              "\n",
              "    .dataframe thead tr th {\n",
              "        text-align: left;\n",
              "    }\n",
              "\n",
              "    .dataframe thead tr:last-of-type th {\n",
              "        text-align: right;\n",
              "    }\n",
              "</style>\n",
              "<table border=\"1\" class=\"dataframe\">\n",
              "  <thead>\n",
              "    <tr>\n",
              "      <th></th>\n",
              "      <th></th>\n",
              "      <th colspan=\"12\" halign=\"left\">mean</th>\n",
              "    </tr>\n",
              "    <tr>\n",
              "      <th></th>\n",
              "      <th></th>\n",
              "      <th colspan=\"2\" halign=\"left\">Age</th>\n",
              "      <th colspan=\"2\" halign=\"left\">Education</th>\n",
              "      <th colspan=\"2\" halign=\"left\">Fitness</th>\n",
              "      <th colspan=\"2\" halign=\"left\">Income</th>\n",
              "      <th colspan=\"2\" halign=\"left\">Miles</th>\n",
              "      <th colspan=\"2\" halign=\"left\">Usage</th>\n",
              "    </tr>\n",
              "    <tr>\n",
              "      <th></th>\n",
              "      <th>MaritalStatus</th>\n",
              "      <th>Partnered</th>\n",
              "      <th>Single</th>\n",
              "      <th>Partnered</th>\n",
              "      <th>Single</th>\n",
              "      <th>Partnered</th>\n",
              "      <th>Single</th>\n",
              "      <th>Partnered</th>\n",
              "      <th>Single</th>\n",
              "      <th>Partnered</th>\n",
              "      <th>Single</th>\n",
              "      <th>Partnered</th>\n",
              "      <th>Single</th>\n",
              "    </tr>\n",
              "    <tr>\n",
              "      <th>Product</th>\n",
              "      <th>Gender</th>\n",
              "      <th></th>\n",
              "      <th></th>\n",
              "      <th></th>\n",
              "      <th></th>\n",
              "      <th></th>\n",
              "      <th></th>\n",
              "      <th></th>\n",
              "      <th></th>\n",
              "      <th></th>\n",
              "      <th></th>\n",
              "      <th></th>\n",
              "      <th></th>\n",
              "    </tr>\n",
              "  </thead>\n",
              "  <tbody>\n",
              "    <tr>\n",
              "      <th rowspan=\"2\" valign=\"top\">TM195</th>\n",
              "      <th>Female</th>\n",
              "      <td>28.333333</td>\n",
              "      <td>28.692308</td>\n",
              "      <td>14.888889</td>\n",
              "      <td>15.538462</td>\n",
              "      <td>2.851852</td>\n",
              "      <td>2.923077</td>\n",
              "      <td>46153.777778</td>\n",
              "      <td>45742.384615</td>\n",
              "      <td>74.925926</td>\n",
              "      <td>78.846154</td>\n",
              "      <td>2.851852</td>\n",
              "      <td>3.000000</td>\n",
              "    </tr>\n",
              "    <tr>\n",
              "      <th>Male</th>\n",
              "      <td>31.380952</td>\n",
              "      <td>25.631579</td>\n",
              "      <td>15.428571</td>\n",
              "      <td>14.473684</td>\n",
              "      <td>2.857143</td>\n",
              "      <td>3.263158</td>\n",
              "      <td>50028.000000</td>\n",
              "      <td>43265.842105</td>\n",
              "      <td>80.190476</td>\n",
              "      <td>99.526316</td>\n",
              "      <td>3.285714</td>\n",
              "      <td>3.263158</td>\n",
              "    </tr>\n",
              "    <tr>\n",
              "      <th rowspan=\"2\" valign=\"top\">TM498</th>\n",
              "      <th>Female</th>\n",
              "      <td>30.000000</td>\n",
              "      <td>28.142857</td>\n",
              "      <td>15.200000</td>\n",
              "      <td>15.214286</td>\n",
              "      <td>2.933333</td>\n",
              "      <td>2.785714</td>\n",
              "      <td>49724.800000</td>\n",
              "      <td>48920.357143</td>\n",
              "      <td>94.000000</td>\n",
              "      <td>80.214286</td>\n",
              "      <td>3.333333</td>\n",
              "      <td>2.928571</td>\n",
              "    </tr>\n",
              "    <tr>\n",
              "      <th>Male</th>\n",
              "      <td>30.380952</td>\n",
              "      <td>25.200000</td>\n",
              "      <td>15.285714</td>\n",
              "      <td>14.500000</td>\n",
              "      <td>2.904762</td>\n",
              "      <td>3.000000</td>\n",
              "      <td>49378.285714</td>\n",
              "      <td>47071.800000</td>\n",
              "      <td>87.238095</td>\n",
              "      <td>91.100000</td>\n",
              "      <td>2.857143</td>\n",
              "      <td>3.300000</td>\n",
              "    </tr>\n",
              "    <tr>\n",
              "      <th rowspan=\"2\" valign=\"top\">TM798</th>\n",
              "      <th>Female</th>\n",
              "      <td>29.000000</td>\n",
              "      <td>24.333333</td>\n",
              "      <td>17.500000</td>\n",
              "      <td>18.333333</td>\n",
              "      <td>5.000000</td>\n",
              "      <td>4.000000</td>\n",
              "      <td>84972.250000</td>\n",
              "      <td>58516.000000</td>\n",
              "      <td>215.000000</td>\n",
              "      <td>133.333333</td>\n",
              "      <td>5.250000</td>\n",
              "      <td>4.666667</td>\n",
              "    </tr>\n",
              "    <tr>\n",
              "      <th>Male</th>\n",
              "      <td>30.000000</td>\n",
              "      <td>28.928571</td>\n",
              "      <td>17.421053</td>\n",
              "      <td>16.928571</td>\n",
              "      <td>4.631579</td>\n",
              "      <td>4.642857</td>\n",
              "      <td>81431.368421</td>\n",
              "      <td>68216.428571</td>\n",
              "      <td>176.315789</td>\n",
              "      <td>147.571429</td>\n",
              "      <td>4.842105</td>\n",
              "      <td>4.571429</td>\n",
              "    </tr>\n",
              "  </tbody>\n",
              "</table>\n",
              "</div>"
            ],
            "text/plain": [
              "                     mean                                             \\\n",
              "                      Age             Education              Fitness   \n",
              "MaritalStatus   Partnered     Single  Partnered     Single Partnered   \n",
              "Product Gender                                                         \n",
              "TM195   Female  28.333333  28.692308  14.888889  15.538462  2.851852   \n",
              "        Male    31.380952  25.631579  15.428571  14.473684  2.857143   \n",
              "TM498   Female  30.000000  28.142857  15.200000  15.214286  2.933333   \n",
              "        Male    30.380952  25.200000  15.285714  14.500000  2.904762   \n",
              "TM798   Female  29.000000  24.333333  17.500000  18.333333  5.000000   \n",
              "        Male    30.000000  28.928571  17.421053  16.928571  4.631579   \n",
              "\n",
              "                                                                              \\\n",
              "                                Income                     Miles               \n",
              "MaritalStatus     Single     Partnered        Single   Partnered      Single   \n",
              "Product Gender                                                                 \n",
              "TM195   Female  2.923077  46153.777778  45742.384615   74.925926   78.846154   \n",
              "        Male    3.263158  50028.000000  43265.842105   80.190476   99.526316   \n",
              "TM498   Female  2.785714  49724.800000  48920.357143   94.000000   80.214286   \n",
              "        Male    3.000000  49378.285714  47071.800000   87.238095   91.100000   \n",
              "TM798   Female  4.000000  84972.250000  58516.000000  215.000000  133.333333   \n",
              "        Male    4.642857  81431.368421  68216.428571  176.315789  147.571429   \n",
              "\n",
              "                                    \n",
              "                   Usage            \n",
              "MaritalStatus  Partnered    Single  \n",
              "Product Gender                      \n",
              "TM195   Female  2.851852  3.000000  \n",
              "        Male    3.285714  3.263158  \n",
              "TM498   Female  3.333333  2.928571  \n",
              "        Male    2.857143  3.300000  \n",
              "TM798   Female  5.250000  4.666667  \n",
              "        Male    4.842105  4.571429  "
            ]
          },
          "execution_count": 6,
          "metadata": {},
          "output_type": "execute_result"
        }
      ],
      "source": [
        "pd.pivot_table(df_sports, index=['Product','Gender'],\n",
        "               columns=['MaritalStatus'], aggfunc=['mean'])"
      ]
    },
    {
      "cell_type": "code",
      "execution_count": 7,
      "metadata": {
        "id": "nluozALT5hRA"
      },
      "outputs": [
        {
          "name": "stdout",
          "output_type": "stream",
          "text": [
            "Product\n",
            "TM195    80\n",
            "TM498    60\n",
            "TM798    40\n",
            "dtype: int64\n"
          ]
        }
      ],
      "source": [
        "print(df_sports.groupby('Product').size())"
      ]
    },
    {
      "cell_type": "markdown",
      "metadata": {},
      "source": [
        "*agrupa los productos y muestra sus cantidades. en este caso está mostrando **80 TM195, 60 TM498, 40 TM798***"
      ]
    },
    {
      "cell_type": "code",
      "execution_count": 8,
      "metadata": {
        "id": "g1IS5-x54w9i"
      },
      "outputs": [
        {
          "data": {
            "text/plain": [
              "28.788888888888888"
            ]
          },
          "execution_count": 8,
          "metadata": {},
          "output_type": "execute_result"
        }
      ],
      "source": [
        "df_sports['Age'].mean()"
      ]
    },
    {
      "cell_type": "markdown",
      "metadata": {},
      "source": [
        "*calcula la media de las edades que en este caso es 28.78*"
      ]
    },
    {
      "cell_type": "code",
      "execution_count": 9,
      "metadata": {
        "id": "Fto65tYf5HOo"
      },
      "outputs": [
        {
          "data": {
            "text/plain": [
              "50596.5"
            ]
          },
          "execution_count": 9,
          "metadata": {},
          "output_type": "execute_result"
        }
      ],
      "source": [
        "df_sports['Income'].median()"
      ]
    },
    {
      "cell_type": "markdown",
      "metadata": {},
      "source": [
        "_muestra la mediana de los ingresos. en este caso: 50596.5_"
      ]
    },
    {
      "cell_type": "code",
      "execution_count": 10,
      "metadata": {
        "id": "YvcOBbYr5Oc1"
      },
      "outputs": [
        {
          "data": {
            "text/plain": [
              "6.943498135399795"
            ]
          },
          "execution_count": 10,
          "metadata": {},
          "output_type": "execute_result"
        }
      ],
      "source": [
        "df_sports['Age'].std()"
      ]
    },
    {
      "cell_type": "markdown",
      "metadata": {},
      "source": [
        "_muestra la desviación estándar de la edad. en este caso es de: 6.943_"
      ]
    },
    {
      "cell_type": "code",
      "execution_count": 12,
      "metadata": {
        "id": "f_9Fe-Hf2N_8"
      },
      "outputs": [
        {
          "ename": "ModuleNotFoundError",
          "evalue": "No module named 'seaborn'",
          "output_type": "error",
          "traceback": [
            "\u001b[1;31m---------------------------------------------------------------------------\u001b[0m",
            "\u001b[1;31mModuleNotFoundError\u001b[0m                       Traceback (most recent call last)",
            "\u001b[1;32m~\\AppData\\Local\\Temp/ipykernel_7280/1846418854.py\u001b[0m in \u001b[0;36m<module>\u001b[1;34m\u001b[0m\n\u001b[1;32m----> 1\u001b[1;33m \u001b[1;32mimport\u001b[0m \u001b[0mseaborn\u001b[0m \u001b[1;32mas\u001b[0m \u001b[0msns\u001b[0m\u001b[1;33m\u001b[0m\u001b[1;33m\u001b[0m\u001b[0m\n\u001b[0m\u001b[0;32m      2\u001b[0m \u001b[0msns\u001b[0m\u001b[1;33m.\u001b[0m\u001b[0mcountplot\u001b[0m\u001b[1;33m(\u001b[0m\u001b[0mx\u001b[0m\u001b[1;33m=\u001b[0m\u001b[1;34m'Product'\u001b[0m\u001b[1;33m,\u001b[0m \u001b[0mhue\u001b[0m\u001b[1;33m=\u001b[0m\u001b[1;34m'Gender'\u001b[0m\u001b[1;33m,\u001b[0m\u001b[0mdata\u001b[0m\u001b[1;33m=\u001b[0m\u001b[0mdf_sports\u001b[0m\u001b[1;33m)\u001b[0m\u001b[1;33m\u001b[0m\u001b[1;33m\u001b[0m\u001b[0m\n",
            "\u001b[1;31mModuleNotFoundError\u001b[0m: No module named 'seaborn'"
          ]
        }
      ],
      "source": [
        "import seaborn as sns\n",
        "sns.countplot(x='Product', hue='Gender',data=df_sports)\n"
      ]
    },
    {
      "cell_type": "code",
      "execution_count": null,
      "metadata": {
        "id": "CRHfkuvT-ioZ"
      },
      "outputs": [],
      "source": [
        "sns.distplot(df_sports['Age'])"
      ]
    },
    {
      "cell_type": "code",
      "execution_count": null,
      "metadata": {
        "id": "l5GB5kkQ6fgk"
      },
      "outputs": [],
      "source": [
        "import matplotlib.pyplot as plt\n",
        "age_sports=df_sports['Age']\n",
        "plt.hist(age_sports,color=\"blue\",label=\"Age\") \n",
        "plt.show()\n",
        "\n",
        "# Una vez que ejecute ejecute el codigo para generar el grafico de tipo histograma, proceda a configurarlo (titulo,labels,color,otros)"
      ]
    },
    {
      "cell_type": "code",
      "execution_count": null,
      "metadata": {
        "id": "f6ztoswq_CRq"
      },
      "outputs": [],
      "source": [
        "df_sports.hist(by='Gender',column='Age')"
      ]
    },
    {
      "cell_type": "code",
      "execution_count": null,
      "metadata": {
        "id": "Sp1cPCFj_irp"
      },
      "outputs": [],
      "source": [
        "df_sports.hist(by='Gender',column='Income',figsize=(20,30))"
      ]
    },
    {
      "cell_type": "code",
      "execution_count": null,
      "metadata": {
        "id": "QB7KVloG7Wze"
      },
      "outputs": [],
      "source": [
        "plt.bar(df_sports['Product'],df_sports[\"Age\"])\n",
        "plt.show()\n",
        "# Una vez que ejecute ejecute el codigo para generar el grafico de tipo histograma, proceda a configurarlo (titulo,labels,color, otros)"
      ]
    },
    {
      "cell_type": "code",
      "execution_count": null,
      "metadata": {
        "id": "OO5fP27y8cmJ"
      },
      "outputs": [],
      "source": [
        "plt.scatter(df_sports['Product'],df_sports[\"Income\"])\n",
        "plt.show()\n",
        "# Una vez que ejecute ejecute el codigo para generar el grafico de tipo histograma, proceda a configurarlo (titulo,labels,color, otros)"
      ]
    },
    {
      "cell_type": "code",
      "execution_count": null,
      "metadata": {
        "id": "n4_Kikym8-Kq"
      },
      "outputs": [],
      "source": [
        "print(df_sports.corr())"
      ]
    }
  ],
  "metadata": {
    "colab": {
      "collapsed_sections": [],
      "name": "Clase 07.ipynb",
      "provenance": []
    },
    "interpreter": {
      "hash": "061af1430fa852eb71823a86290c522e09742e4bacb50147b06c5102f40443d1"
    },
    "kernelspec": {
      "display_name": "Python 3.9.6 64-bit",
      "name": "python3"
    },
    "language_info": {
      "codemirror_mode": {
        "name": "ipython",
        "version": 3
      },
      "file_extension": ".py",
      "mimetype": "text/x-python",
      "name": "python",
      "nbconvert_exporter": "python",
      "pygments_lexer": "ipython3",
      "version": "3.9.6"
    }
  },
  "nbformat": 4,
  "nbformat_minor": 0
}
